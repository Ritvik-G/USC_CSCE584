{
 "cells": [
  {
   "cell_type": "code",
   "execution_count": null,
   "id": "a6414dbd",
   "metadata": {
    "vscode": {
     "languageId": "plaintext"
    }
   },
   "outputs": [],
   "source": [
    "import skimage.data\n",
    "import numpy\n",
    "import matplotlib\n",
    "import numpycnn as numpycnn"
   ]
  },
  {
   "cell_type": "code",
   "execution_count": null,
   "id": "19d0281e",
   "metadata": {
    "vscode": {
     "languageId": "plaintext"
    }
   },
   "outputs": [],
   "source": [
    "\n",
    "\"\"\"\n",
    "Convolutional neural network implementation using NumPy\n",
    "An article describing this project is titled \"Building Convolutional Neural Network using NumPy from Scratch\". It is available in these links: https://www.linkedin.com/pulse/building-convolutional-neural-network-using-numpy-from-ahmed-gad/\n",
    "https://www.kdnuggets.com/2018/04/building-convolutional-neural-network-numpy-scratch.html\n",
    "It is also translated into Chinese: http://m.aliyun.com/yunqi/articles/585741\n",
    "\n",
    "The project is tested using Python 3.5.2 installed inside Anaconda 4.2.0 (64-bit)\n",
    "NumPy version used is 1.14.0\n",
    "\n",
    "For more info., contact me:\n",
    "    Ahmed Fawzy Gad\n",
    "    KDnuggets: https://www.kdnuggets.com/author/ahmed-gad\n",
    "    LinkedIn: https://www.linkedin.com/in/ahmedfgad\n",
    "    Facebook: https://www.facebook.com/ahmed.f.gadd\n",
    "    ahmed.f.gad@gmail.com\n",
    "    ahmed.fawzy@ci.menofia.edu.eg\n",
    "\"\"\"\n"
   ]
  },
  {
   "cell_type": "code",
   "execution_count": null,
   "id": "3de93840",
   "metadata": {
    "vscode": {
     "languageId": "plaintext"
    }
   },
   "outputs": [],
   "source": [
    "# Reading the image\n",
    "#img = skimage.io.imread(\"test.jpg\")\n",
    "#img = skimage.data.checkerboard()\n",
    "img = skimage.data.chelsea()\n",
    "#img = skimage.data.camera()\n",
    "\n",
    "# Converting the image into gray.\n",
    "img = skimage.color.rgb2gray(img)\n",
    "\n",
    "# First conv layer\n",
    "#l1_filter = numpy.random.rand(2,7,7)*20 # Preparing the filters randomly.\n",
    "l1_filter = numpy.zeros((2,3,3))\n",
    "l1_filter[0, :, :] = numpy.array([[[-1, 0, 1], \n",
    "                                   [-1, 0, 1], \n",
    "                                   [-1, 0, 1]]])\n",
    "l1_filter[1, :, :] = numpy.array([[[1,   1,  1], \n",
    "                                   [0,   0,  0], \n",
    "                                   [-1, -1, -1]]])"
   ]
  },
  {
   "cell_type": "code",
   "execution_count": null,
   "id": "a08e45c7",
   "metadata": {
    "vscode": {
     "languageId": "plaintext"
    }
   },
   "outputs": [],
   "source": [
    "print(\"\\n**Working with conv layer 1**\")\n",
    "l1_feature_map = numpycnn.conv(img, l1_filter)\n",
    "print(\"\\n**ReLU**\")\n",
    "l1_feature_map_relu = numpycnn.relu(l1_feature_map)\n",
    "print(\"\\n**Pooling**\")\n",
    "l1_feature_map_relu_pool = numpycnn.pooling(l1_feature_map_relu, 2, 2)\n",
    "print(\"**End of conv layer 1**\\n\")"
   ]
  },
  {
   "cell_type": "code",
   "execution_count": null,
   "id": "b475cd7e",
   "metadata": {
    "vscode": {
     "languageId": "plaintext"
    }
   },
   "outputs": [],
   "source": [
    "\n",
    "# Second conv layer\n",
    "l2_filter = numpy.random.rand(3, 5, 5, l1_feature_map_relu_pool.shape[-1])\n",
    "print(\"\\n**Working with conv layer 2**\")\n",
    "l2_feature_map = numpycnn.conv(l1_feature_map_relu_pool, l2_filter)\n",
    "print(\"\\n**ReLU**\")\n",
    "l2_feature_map_relu = numpycnn.relu(l2_feature_map)\n",
    "print(\"\\n**Pooling**\")\n",
    "l2_feature_map_relu_pool = numpycnn.pooling(l2_feature_map_relu, 2, 2)\n",
    "print(\"**End of conv layer 2**\\n\")"
   ]
  },
  {
   "cell_type": "code",
   "execution_count": null,
   "id": "67896626",
   "metadata": {
    "vscode": {
     "languageId": "plaintext"
    }
   },
   "outputs": [],
   "source": [
    "# Third conv layer\n",
    "l3_filter = numpy.random.rand(1, 7, 7, l2_feature_map_relu_pool.shape[-1])\n",
    "print(\"\\n**Working with conv layer 3**\")\n",
    "l3_feature_map = numpycnn.conv(l2_feature_map_relu_pool, l3_filter)\n",
    "print(\"\\n**ReLU**\")\n",
    "l3_feature_map_relu = numpycnn.relu(l3_feature_map)\n",
    "print(\"\\n**Pooling**\")\n",
    "l3_feature_map_relu_pool = numpycnn.pooling(l3_feature_map_relu, 2, 2)\n",
    "print(\"**End of conv layer 3**\\n\")"
   ]
  },
  {
   "cell_type": "code",
   "execution_count": null,
   "id": "89734438",
   "metadata": {
    "vscode": {
     "languageId": "plaintext"
    }
   },
   "outputs": [],
   "source": [
    "# Graphing results\n",
    "fig0, ax0 = matplotlib.pyplot.subplots(nrows=1, ncols=1)\n",
    "ax0.imshow(img).set_cmap(\"gray\")\n",
    "ax0.set_title(\"Input Image\")\n",
    "ax0.get_xaxis().set_ticks([])\n",
    "ax0.get_yaxis().set_ticks([])\n",
    "matplotlib.pyplot.savefig(\"in_img.png\", bbox_inches=\"tight\")\n",
    "matplotlib.pyplot.close(fig0)"
   ]
  }
 ],
 "metadata": {
  "language_info": {
   "name": "python"
  }
 },
 "nbformat": 4,
 "nbformat_minor": 5
}
